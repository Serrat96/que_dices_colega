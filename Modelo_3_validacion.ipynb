{
 "cells": [
  {
   "cell_type": "code",
   "execution_count": 4,
   "id": "senior-seven",
   "metadata": {},
   "outputs": [],
   "source": [
    "import numpy as np\n",
    "from keras.preprocessing.image import load_img, img_to_array\n",
    "from keras.models import load_model\n",
    "import os\n",
    "import pandas as pd\n",
    "from tqdm.notebook import tqdm"
   ]
  },
  {
   "cell_type": "code",
   "execution_count": 5,
   "id": "blank-vocabulary",
   "metadata": {},
   "outputs": [
    {
     "data": {
      "application/vnd.jupyter.widget-view+json": {
       "model_id": "305c9a98d69c47b5ad8360db0cd43568",
       "version_major": 2,
       "version_minor": 0
      },
      "text/plain": [
       "  0%|          | 0/1150 [00:00<?, ?it/s]"
      ]
     },
     "metadata": {},
     "output_type": "display_data"
    }
   ],
   "source": [
    "longitud, altura = 100, 100\n",
    "modelo='./modelo_vgg16/modelo_vgg16.h5'\n",
    "pesos='./modelo_vgg16/pesos_vgg16.h5'\n",
    "\n",
    "cnn=load_model(modelo)\n",
    "cnn.load_weights(pesos)\n",
    "\n",
    "\n",
    "lista_categorias = ['A', 'B', 'C', 'D', 'E', 'F', 'G', 'H', 'I', 'J', 'K', 'L', 'M',\n",
    "       'N', 'O', 'P', 'Q', 'R', 'S', 'T', 'U', 'V', 'W', 'X', 'Y', 'Z',\n",
    "       'del', 'nothing', 'space']\n",
    "categoria=[]\n",
    "filenames=[]\n",
    "for file in tqdm(os.listdir('./test')):\n",
    "    filenames.append(file)\n",
    "    file=load_img('./test/' + file, target_size=(longitud, altura))\n",
    "    file=img_to_array(file)\n",
    "    file=np.expand_dims(file, axis=0)/255\n",
    "    arreglo=cnn.predict(file)\n",
    "    resultado=arreglo[0]\n",
    "    respuesta=np.argmax(resultado)\n",
    "    categoria.append(lista_categorias[respuesta])"
   ]
  },
  {
   "cell_type": "code",
   "execution_count": 6,
   "id": "grateful-logic",
   "metadata": {},
   "outputs": [],
   "source": [
    "submission = pd.DataFrame(\n",
    "    {'archivo': filenames,\n",
    "     'target': categoria,\n",
    "    })"
   ]
  },
  {
   "cell_type": "code",
   "execution_count": 7,
   "id": "going-baltimore",
   "metadata": {},
   "outputs": [],
   "source": [
    "submission.to_csv(r'./submissions_vgg16/submission_vgg16_2.csv', index=False)"
   ]
  },
  {
   "cell_type": "code",
   "execution_count": null,
   "id": "awful-powder",
   "metadata": {},
   "outputs": [],
   "source": []
  }
 ],
 "metadata": {
  "kernelspec": {
   "display_name": "Python 3",
   "language": "python",
   "name": "python3"
  },
  "language_info": {
   "codemirror_mode": {
    "name": "ipython",
    "version": 3
   },
   "file_extension": ".py",
   "mimetype": "text/x-python",
   "name": "python",
   "nbconvert_exporter": "python",
   "pygments_lexer": "ipython3",
   "version": "3.8.5"
  }
 },
 "nbformat": 4,
 "nbformat_minor": 5
}
