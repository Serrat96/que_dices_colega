{
 "cells": [
  {
   "cell_type": "code",
   "execution_count": 1,
   "id": "imperial-universe",
   "metadata": {},
   "outputs": [],
   "source": [
    "import numpy as np\n",
    "from keras.preprocessing.image import load_img, img_to_array\n",
    "from keras.models import load_model"
   ]
  },
  {
   "cell_type": "code",
   "execution_count": null,
   "id": "vulnerable-curtis",
   "metadata": {},
   "outputs": [],
   "source": [
    "longitud, altura = 100, 100\n",
    "modelo='./modelo/modelo.h5'\n",
    "pesos='./modelo/pesos.h5'\n",
    "\n",
    "cnn=load_model(modelo)\n",
    "cnn.load_weights(pesos)\n",
    "\n",
    "submission = pd.DataFrame(columns = ['archivo', 'target'])\n",
    "\n",
    "for file in os.listdir('./test'):\n",
    "    file=load_img(file, target_size=(longitud, altura))\n",
    "    file=img_to_array(x)\n",
    "    file=np.expand_dims(x, axis=0)\n",
    "    arreglo=cnn.predict(file)\n",
    "    resultado=arreglo[0]\n",
    "    respuesta=np.argmax(resultado)"
   ]
  }
 ],
 "metadata": {
  "kernelspec": {
   "display_name": "Python 3",
   "language": "python",
   "name": "python3"
  },
  "language_info": {
   "codemirror_mode": {
    "name": "ipython",
    "version": 3
   },
   "file_extension": ".py",
   "mimetype": "text/x-python",
   "name": "python",
   "nbconvert_exporter": "python",
   "pygments_lexer": "ipython3",
   "version": "3.8.5"
  }
 },
 "nbformat": 4,
 "nbformat_minor": 5
}
