{
 "cells": [
  {
   "cell_type": "code",
   "execution_count": 38,
   "id": "raising-sunday",
   "metadata": {},
   "outputs": [],
   "source": [
    "import numpy as np\n",
    "from keras.preprocessing.image import load_img, img_to_array\n",
    "from keras.models import load_model\n",
    "import os\n",
    "import pandas as pd\n",
    "from tqdm.notebook import tqdm"
   ]
  },
  {
   "cell_type": "code",
   "execution_count": 39,
   "id": "adolescent-spectrum",
   "metadata": {},
   "outputs": [
    {
     "data": {
      "application/vnd.jupyter.widget-view+json": {
       "model_id": "33631ad3f5404910bfb791ca25e2ca22",
       "version_major": 2,
       "version_minor": 0
      },
      "text/plain": [
       "  0%|          | 0/1150 [00:00<?, ?it/s]"
      ]
     },
     "metadata": {},
     "output_type": "display_data"
    }
   ],
   "source": [
    "longitud, altura = 100, 100\n",
    "modelo='./modelo/modelo.h5'\n",
    "pesos='./modelo/pesos.h5'\n",
    "\n",
    "cnn=load_model(modelo)\n",
    "cnn.load_weights(pesos)\n",
    "\n",
    "\n",
    "lista_categorias = ['A', 'B', 'C', 'D', 'E', 'F', 'G', 'H', 'I', 'J', 'K', 'L', 'M',\n",
    "       'N', 'O', 'P', 'Q', 'R', 'S', 'T', 'U', 'V', 'W', 'X', 'Y', 'Z',\n",
    "       'del', 'nothing', 'space']\n",
    "categoria=[]\n",
    "filenames=[]\n",
    "for file in tqdm(os.listdir('./test')):\n",
    "    filenames.append(file)\n",
    "    file=load_img('./test/' + file, target_size=(longitud, altura))\n",
    "    file=img_to_array(file)\n",
    "    file=np.expand_dims(file, axis=0)\n",
    "    arreglo=cnn.predict(file)\n",
    "    resultado=arreglo[0]\n",
    "    respuesta=np.argmax(resultado)\n",
    "    \n",
    "    if respuesta == 0:\n",
    "        categoria.append(lista_categorias[0])\n",
    "    elif respuesta == 1:\n",
    "        categoria.append(lista_categorias[1])\n",
    "    elif respuesta == 2:\n",
    "        categoria.append(lista_categorias[2])\n",
    "    elif respuesta == 3:\n",
    "        categoria.append(lista_categorias[3])\n",
    "    elif respuesta == 4:\n",
    "        categoria.append(lista_categorias[4])\n",
    "    elif respuesta == 5:\n",
    "        categoria.append(lista_categorias[5])\n",
    "    elif respuesta == 6:\n",
    "        categoria.append(lista_categorias[6])\n",
    "    elif respuesta == 7:\n",
    "        categoria.append(lista_categorias[7])\n",
    "    elif respuesta == 8:\n",
    "        categoria.append(lista_categorias[8])\n",
    "    elif respuesta == 9:\n",
    "        categoria.append(lista_categorias[9])\n",
    "    elif respuesta == 10:\n",
    "        categoria.append(lista_categorias[10])\n",
    "    elif respuesta == 11:\n",
    "        categoria.append(lista_categorias[11])\n",
    "    elif respuesta == 12:\n",
    "        categoria.append(lista_categorias[12])\n",
    "    elif respuesta == 13:\n",
    "        categoria.append(lista_categorias[13])\n",
    "    elif respuesta == 14:\n",
    "        categoria.append(lista_categorias[14])\n",
    "    elif respuesta == 15:\n",
    "        categoria.append(lista_categorias[15])\n",
    "    elif respuesta == 16:\n",
    "        categoria.append(lista_categorias[16])\n",
    "    elif respuesta == 17:\n",
    "        categoria.append(lista_categorias[17])\n",
    "    elif respuesta == 18:\n",
    "        categoria.append(lista_categorias[18])\n",
    "    elif respuesta == 19:\n",
    "        categoria.append(lista_categorias[19])\n",
    "    elif respuesta == 20:\n",
    "        categoria.append(lista_categorias[20])\n",
    "    elif respuesta == 21:\n",
    "        categoria.append(lista_categorias[21])\n",
    "    elif respuesta == 22:\n",
    "        categoria.append(lista_categorias[22])\n",
    "    elif respuesta == 23:\n",
    "        categoria.append(lista_categorias[23])\n",
    "    elif respuesta == 24:\n",
    "        categoria.append(lista_categorias[24])\n",
    "    elif respuesta == 25:\n",
    "        categoria.append(lista_categorias[25])\n",
    "    elif respuesta == 26:\n",
    "        categoria.append(lista_categorias[26])\n",
    "    elif respuesta == 27:\n",
    "        categoria.append(lista_categorias[27])\n",
    "    elif respuesta == 28:\n",
    "        categoria.append(lista_categorias[28])\n",
    "    else:\n",
    "        print('La he liao')"
   ]
  },
  {
   "cell_type": "code",
   "execution_count": 40,
   "id": "brave-advertising",
   "metadata": {},
   "outputs": [],
   "source": [
    "submission = pd.DataFrame(\n",
    "    {'archivo': filenames,\n",
    "     'target': categoria,\n",
    "    })"
   ]
  },
  {
   "cell_type": "code",
   "execution_count": 41,
   "id": "unknown-designer",
   "metadata": {},
   "outputs": [],
   "source": [
    "submission.to_csv(r'./submissions/submission3.csv', index=False)"
   ]
  },
  {
   "cell_type": "code",
   "execution_count": 42,
   "id": "detailed-arbitration",
   "metadata": {},
   "outputs": [
    {
     "name": "stdout",
     "output_type": "stream",
     "text": [
      "2.4.1\n",
      "Num GPUs available: 0\n"
     ]
    }
   ],
   "source": [
    "import tensorflow as tf\n",
    "print(tf.__version__)\n",
    "print('Num GPUs available:', len(tf.config.experimental.list_physical_devices('GPU')))"
   ]
  },
  {
   "cell_type": "code",
   "execution_count": null,
   "id": "stone-programming",
   "metadata": {},
   "outputs": [],
   "source": []
  }
 ],
 "metadata": {
  "kernelspec": {
   "display_name": "Python 3",
   "language": "python",
   "name": "python3"
  },
  "language_info": {
   "codemirror_mode": {
    "name": "ipython",
    "version": 3
   },
   "file_extension": ".py",
   "mimetype": "text/x-python",
   "name": "python",
   "nbconvert_exporter": "python",
   "pygments_lexer": "ipython3",
   "version": "3.8.5"
  }
 },
 "nbformat": 4,
 "nbformat_minor": 5
}
